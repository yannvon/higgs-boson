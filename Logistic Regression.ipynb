{
 "cells": [
  {
   "cell_type": "code",
   "execution_count": 1,
   "metadata": {},
   "outputs": [],
   "source": [
    "# Useful starting lines\n",
    "%matplotlib inline\n",
    "import numpy as np\n",
    "import matplotlib.pyplot as plt\n",
    "%load_ext autoreload\n",
    "%autoreload 2"
   ]
  },
  {
   "cell_type": "code",
   "execution_count": 58,
   "metadata": {},
   "outputs": [],
   "source": [
    "# Import Data and methods\n",
    "from scripts.proj1_helpers import *\n",
    "from scripts.implementations import *\n",
    "y_train_load, x_train_load, ids_train = load_csv_data('./data/train.csv', sub_sample=False)\n",
    "_, x_test_load, ids_test = load_csv_data('./data/test.csv', sub_sample=False)\n",
    "\n",
    "# Add 1 dimension FIXME not understood\n",
    "y_train = np.expand_dims(y_train_load, axis=1)"
   ]
  },
  {
   "cell_type": "markdown",
   "metadata": {},
   "source": [
    "# Logistic Regression Baseline"
   ]
  },
  {
   "cell_type": "code",
   "execution_count": 65,
   "metadata": {},
   "outputs": [],
   "source": [
    "# build sampled x and y.\n",
    "seed = 1\n",
    "#y_train_samp, x_train_samp = sample_data(y_train, x_train, seed, size_samples=y_train_load.shape[0])\n",
    "\n",
    "# standardize both sets\n",
    "x_train, mean_x, std_x = standardize(x_train_load)\n",
    "x_test, mean_test, std_test = standardize(x_test_load)"
   ]
  },
  {
   "cell_type": "code",
   "execution_count": 66,
   "metadata": {},
   "outputs": [],
   "source": [
    "tx_train = np.c_[np.ones((y_train.shape[0], 1)), x_train]\n",
    "tx_test = np.c_[np.ones((x_test.shape[0], 1)), x_test]"
   ]
  },
  {
   "cell_type": "code",
   "execution_count": 67,
   "metadata": {},
   "outputs": [
    {
     "name": "stdout",
     "output_type": "stream",
     "text": [
      "Current iteration=0, loss=173286.79514000565\n"
     ]
    },
    {
     "name": "stderr",
     "output_type": "stream",
     "text": [
      "/home/yann/Documents/higgs-boson/scripts/implementations.py:151: RuntimeWarning: overflow encountered in exp\n",
      "  return 1.0 / (1 + np.exp(-t))\n",
      "/home/yann/Documents/higgs-boson/scripts/implementations.py:158: RuntimeWarning: divide by zero encountered in log\n",
      "  return np.squeeze(-(y.T @ np.log(sigmoid(tx @ w)) + (1 - y).T @ np.log(1 - sigmoid(tx @ w))))\n"
     ]
    },
    {
     "name": "stdout",
     "output_type": "stream",
     "text": [
      "loss=nan\n",
      "nan\n"
     ]
    }
   ],
   "source": [
    "# logistic regression\n",
    "initial_w = np.zeros((tx_train.shape[1], 1))\n",
    "lambda_ = 0.1\n",
    "gamma = 0.001\n",
    "max_iters = 100\n",
    "\n",
    "weights, loss = reg_logistic_regression(y_train, tx_train, lambda_, initial_w, max_iters, gamma)\n",
    "#weights, loss = least_squares(y_train, tx_train)\n",
    "print(loss)\n"
   ]
  },
  {
   "cell_type": "code",
   "execution_count": 64,
   "metadata": {},
   "outputs": [
    {
     "name": "stdout",
     "output_type": "stream",
     "text": [
      "Training set accuracy = 0.657332\n"
     ]
    }
   ],
   "source": [
    "y_prediction = predict_labels(weights, tx_train)\n",
    "print(\"Training set accuracy = \"+str(compute_accuracy(y_train, y_prediction)))"
   ]
  },
  {
   "cell_type": "markdown",
   "metadata": {},
   "source": [
    "## Helper methods"
   ]
  },
  {
   "cell_type": "code",
   "execution_count": 55,
   "metadata": {},
   "outputs": [],
   "source": [
    "def compute_accuracy(y, y_prediction):\n",
    "    correct = 0.0\n",
    "    for i in range(len(y)):\n",
    "        if y[i] == y_prediction[i]:\n",
    "            correct += 1\n",
    "    accuracy = correct/len(y)\n",
    "    return accuracy\n",
    "\n",
    "# replace -999 value by the mean of the corresponding feature without taking the aberrant values into account\n",
    "def remove_aberrant(data):\n",
    "    for i in range(data.shape[1]):\n",
    "        data[:, i][data[:, i] == -999.0] = np.mean(data[:, i][data[:, i] != -999.0])\n"
   ]
  },
  {
   "cell_type": "code",
   "execution_count": 56,
   "metadata": {},
   "outputs": [],
   "source": [
    "def cross_validation(y, x, k_fold, seed=1):\n",
    "    \"\"\"\n",
    "    split the dataset in k equal subparts. Then train the model on k-1 parts and test it on the last remaining part.\n",
    "    this process is repeatead k times with a different test part each time\n",
    "    \"\"\"\n",
    "    assert(k_fold > 1)\n",
    "\n",
    "    # set seed\n",
    "    np.random.seed(seed)\n",
    "    np.random.shuffle(x)\n",
    "    # resetting the seed allows for an identical shuffling between y and x\n",
    "    np.random.seed(seed)\n",
    "    np.random.shuffle(y)\n",
    "    \n",
    "    loss_train = []\n",
    "    loss_test = []\n",
    "    acc_train, acc_test = [],[]\n",
    "    \n",
    "    total_length = len(y)\n",
    "    split_length = int(total_length / k_fold)\n",
    "    \n",
    "    for i in range(k_fold):\n",
    "        start_index = i * split_length\n",
    "        if i == k_fold - 1:\n",
    "            end_index = total_length\n",
    "        else: #this case is to ensure that all elements are present, in case of unbalanced split\n",
    "            end_index = (i + 1) * split_length\n",
    "        \n",
    "        tx_train = x[np.r_[0 : start_index, end_index: total_length]]\n",
    "        y_train = y[np.r_[0 : start_index, end_index: total_length]]\n",
    "\n",
    "        tx_test = x[start_index : end_index]\n",
    "        y_test = y[start_index : end_index]\n",
    "\n",
    "        # logistic regression\n",
    "        initial_w = np.zeros((tx_train.shape[1], 1))\n",
    "        lambda_ = 0.1\n",
    "        gamma = 0.001\n",
    "        max_iters = 100\n",
    "\n",
    "        weights, loss = reg_logistic_regression(y_train, tx_train, lambda_, initial_w, max_iters, gamma)\n",
    "        y_train_pred = predict_labels(weights, tx_train)\n",
    "        y_test_pred = predict_labels(weights, tx_test)\n",
    "        \n",
    "        loss_train.append(loss)\n",
    "        loss_test.append(calculate_loss_logistic_regression(y_test, tx_test, weights))\n",
    "        acc_train.append(compute_accuracy(y_train, y_train_pred))\n",
    "        acc_test.append(compute_accuracy(y_test, y_test_pred))\n",
    "        \n",
    "    return np.mean(loss_train), np.mean(loss_test), np.mean(acc_train), np.mean(acc_test)"
   ]
  },
  {
   "cell_type": "code",
   "execution_count": 57,
   "metadata": {},
   "outputs": [
    {
     "name": "stdout",
     "output_type": "stream",
     "text": [
      "Current iteration=0, loss=129965.09635499373\n"
     ]
    },
    {
     "name": "stderr",
     "output_type": "stream",
     "text": [
      "/home/yann/Documents/higgs-boson/scripts/implementations.py:151: RuntimeWarning: overflow encountered in exp\n",
      "  return 1.0 / (1 + np.exp(-t))\n",
      "/home/yann/Documents/higgs-boson/scripts/implementations.py:158: RuntimeWarning: divide by zero encountered in log\n",
      "  return np.squeeze(-(y.T @ np.log(sigmoid(tx @ w)) + (1 - y).T @ np.log(1 - sigmoid(tx @ w))))\n"
     ]
    },
    {
     "name": "stdout",
     "output_type": "stream",
     "text": [
      "loss=nan\n",
      "Current iteration=0, loss=129965.0963549939\n",
      "loss=nan\n",
      "Current iteration=0, loss=129965.0963549938\n",
      "loss=nan\n",
      "Current iteration=0, loss=129965.09635499385\n",
      "loss=nan\n"
     ]
    },
    {
     "data": {
      "text/plain": [
       "(nan, nan, 0.70248533333333329, 0.70242000000000004)"
      ]
     },
     "execution_count": 57,
     "metadata": {},
     "output_type": "execute_result"
    }
   ],
   "source": [
    "cross_validation(y_train, tx_train, 4, seed)"
   ]
  },
  {
   "cell_type": "code",
   "execution_count": 25,
   "metadata": {},
   "outputs": [],
   "source": [
    "# Create submission\n",
    "y_prediction_test = predict_labels(weights, tx_test)\n",
    "create_csv_submission(ids_test, y_prediction_test, \"submission.csv\")\n"
   ]
  },
  {
   "cell_type": "code",
   "execution_count": null,
   "metadata": {},
   "outputs": [],
   "source": []
  },
  {
   "cell_type": "code",
   "execution_count": null,
   "metadata": {},
   "outputs": [],
   "source": []
  }
 ],
 "metadata": {
  "kernelspec": {
   "display_name": "Python 3",
   "language": "python",
   "name": "python3"
  },
  "language_info": {
   "codemirror_mode": {
    "name": "ipython",
    "version": 3
   },
   "file_extension": ".py",
   "mimetype": "text/x-python",
   "name": "python",
   "nbconvert_exporter": "python",
   "pygments_lexer": "ipython3",
   "version": "3.6.6"
  }
 },
 "nbformat": 4,
 "nbformat_minor": 2
}
