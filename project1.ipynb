{
 "cells": [
  {
   "cell_type": "code",
   "execution_count": 142,
   "metadata": {},
   "outputs": [
    {
     "name": "stdout",
     "output_type": "stream",
     "text": [
      "The autoreload extension is already loaded. To reload it, use:\n",
      "  %reload_ext autoreload\n"
     ]
    }
   ],
   "source": [
    "# Useful starting lines\n",
    "%matplotlib inline\n",
    "import numpy as np\n",
    "import matplotlib.pyplot as plt\n",
    "from implementations import *\n",
    "%load_ext autoreload\n",
    "%autoreload 2"
   ]
  },
  {
   "cell_type": "code",
   "execution_count": 149,
   "metadata": {},
   "outputs": [],
   "source": [
    "# Import Data and methods\n",
    "from scripts import proj1_helpers as hp\n",
    "y_train, x_train, ids_train = hp.load_csv_data('./data/train.csv', sub_sample=False)\n",
    "_, x_test, ids_test = hp.load_csv_data('./data/test.csv', sub_sample=False)"
   ]
  },
  {
   "cell_type": "markdown",
   "metadata": {},
   "source": [
    "Least Squares SGD -- Baseline"
   ]
  },
  {
   "cell_type": "code",
   "execution_count": 167,
   "metadata": {},
   "outputs": [],
   "source": [
    "# Parameters of least_squares_SGD.\n",
    "# Need to be tuned\n",
    "max_iters = 10000\n",
    "gamma = 0.00000007\n",
    "\n",
    "# Initialization\n",
    "w_initial = np.zeros(30)\n",
    "def remove_aberrant(data):\n",
    "    for i in range(data.shape[1]):\n",
    "        data[:, i][data[:, i] == -999.0] = np.mean(data[:, i][data[:, i] != -999.0])\n",
    "w,l = least_squares_SGD(y_train,x_train,np.zeros(30),max_iters,gamma)\n",
    "\n",
    "##Max accurace obtained with max_iters = 10000 and gamma 0.00000007 is 0.702164"
   ]
  },
  {
   "cell_type": "code",
   "execution_count": 171,
   "metadata": {},
   "outputs": [],
   "source": [
    "#Export Data\n",
    "y_pred = hp.predict_labels(w, x_train)\n",
    "hp.create_csv_submission(ids_test, y_pred, 'submission.csv')"
   ]
  },
  {
   "cell_type": "code",
   "execution_count": 172,
   "metadata": {},
   "outputs": [],
   "source": [
    "def compute_accuracy(y, y_prediction):\n",
    "    correct = 0.0\n",
    "    for i in range (len(y)):\n",
    "        if(y[i] == y_prediction[i]):\n",
    "            correct += 1\n",
    "    accuracy = correct/len(y)\n",
    "    return accuracy"
   ]
  },
  {
   "cell_type": "code",
   "execution_count": 173,
   "metadata": {},
   "outputs": [
    {
     "name": "stdout",
     "output_type": "stream",
     "text": [
      "0.696948\n"
     ]
    }
   ],
   "source": [
    "print(compute_accuracy(y_train,y_pred))"
   ]
  },
  {
   "cell_type": "code",
   "execution_count": null,
   "metadata": {},
   "outputs": [],
   "source": []
  }
 ],
 "metadata": {
  "kernelspec": {
   "display_name": "Python 3",
   "language": "python",
   "name": "python3"
  },
  "language_info": {
   "codemirror_mode": {
    "name": "ipython",
    "version": 3
   },
   "file_extension": ".py",
   "mimetype": "text/x-python",
   "name": "python",
   "nbconvert_exporter": "python",
   "pygments_lexer": "ipython3",
   "version": "3.6.5"
  }
 },
 "nbformat": 4,
 "nbformat_minor": 2
}
