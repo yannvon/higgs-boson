{
 "cells": [
  {
   "cell_type": "code",
   "execution_count": 1,
   "metadata": {},
   "outputs": [],
   "source": [
    "# Useful starting lines\n",
    "%matplotlib inline\n",
    "import numpy as np\n",
    "import matplotlib.pyplot as plt\n",
    "%load_ext autoreload\n",
    "%autoreload 2"
   ]
  },
  {
   "cell_type": "code",
   "execution_count": 7,
   "metadata": {},
   "outputs": [],
   "source": [
    "# --- IMPORTANT this notebook has to be run from inside the /notebook subdirectory for it to import properly\n",
    "# Import helpers and model implementations\n",
    "# Path hack.\n",
    "import sys, os\n",
    "sys.path.insert(0, os.path.abspath('..'))\n",
    "\n",
    "from scripts.implementations import *\n",
    "from scripts.cross_validation import *\n",
    "from scripts.helpers import *\n",
    "from scripts.split import *"
   ]
  },
  {
   "cell_type": "code",
   "execution_count": 8,
   "metadata": {},
   "outputs": [],
   "source": [
    "# Import Data set\n",
    "y_train_l, x_train_l, ids_train = load_csv_data('../data/train.csv', sub_sample=False)\n",
    "_, x_test_l, ids_test = load_csv_data('../data/test.csv', sub_sample=False)"
   ]
  },
  {
   "cell_type": "markdown",
   "metadata": {},
   "source": [
    "# Entire Pipeline in one go: From Cleaning to Submission\n",
    "## Logistic Regression"
   ]
  },
  {
   "cell_type": "code",
   "execution_count": 9,
   "metadata": {},
   "outputs": [],
   "source": [
    "# Copy arrys from memory, this step can be skipped in run.py\n",
    "# Important, all following cells have to be executed in order from here on.\n",
    "x_train, y_train = np.copy(x_train_l), np.copy(y_train_l)\n",
    "x_test = np.copy(x_test_l)\n",
    "\n",
    "# Set seed\n",
    "seed = 1"
   ]
  },
  {
   "cell_type": "markdown",
   "metadata": {},
   "source": [
    "## Creation of a model we can submit\n",
    "### Step 1\n",
    "All we need to do to adapt this pipeline to another model, is to change the following two transform methods"
   ]
  },
  {
   "cell_type": "code",
   "execution_count": 18,
   "metadata": {},
   "outputs": [],
   "source": [
    "def transform_x_logistic(x):\n",
    "    # Step 1: Replace the -999 values in the first column by the mean\n",
    "    x[:, 0][x[:, 0] == -999.0] = np.mean(x[:, 0][x[:, 0] != -999.0])\n",
    "    \n",
    "    # Step 2: Split data set into 3 datasets depending on jet num\n",
    "    x_0, x_1, x_23 = split_x(x)\n",
    "    \n",
    "    # Step 3: Remove aberrant data to be sure to have no outliers left\n",
    "    remove_aberrant(x_0)\n",
    "    remove_aberrant(x_1)\n",
    "    remove_aberrant(x_23)\n",
    "    \n",
    "    # (opt) Add polynomial basis\n",
    "    degree = 2\n",
    "    x_0 = build_poly(x_0, degree)\n",
    "    x_1 = build_poly(x_1, degree)\n",
    "    x_23 = build_poly(x_23, degree)\n",
    "\n",
    "    # Step 4: Standardize data\n",
    "    x_0, x_0_mean, x_0_std = standardize(x_0)\n",
    "    x_1, x_1_mean, x_1_std = standardize(x_1)\n",
    "    x_23, x_23_mean, x_23_std = standardize(x_23)\n",
    "    \n",
    "    # Step 5: Other feature expansion\n",
    "    # 5.1 add column with constant terms\n",
    "    tx_0 = np.c_[np.ones((x_0.shape[0], 1)), x_0]\n",
    "    tx_1 = np.c_[np.ones((x_1.shape[0], 1)), x_1]\n",
    "    tx_23 = np.c_[np.ones((x_23.shape[0], 1)), x_23]\n",
    "\n",
    "    # (opt) 5.2 nonlinear expansion\n",
    "    \n",
    "    # Final step: return all transformed data\n",
    "    return tx_0, tx_1, tx_23\n",
    "\n",
    "def transform_y_logistic(y, x):\n",
    "    # Step 1: add dimension to y \n",
    "    y = np.expand_dims(y, axis=1)\n",
    "    \n",
    "    # For logistic regression only: bring y back to 0 and 1 -> for logistic regression #FIXME bring back\n",
    "    y = np.array([0 if i == -1 else 1 for i in y])\n",
    "    \n",
    "    # Step 2: Split data set into 3 datasets depending on jet num\n",
    "    y_0, y_1, y_23 = split_y(y, x)\n",
    "\n",
    "    return y_0, y_1, y_23\n",
    "    "
   ]
  },
  {
   "cell_type": "markdown",
   "metadata": {},
   "source": [
    "### Step 2\n",
    "Test performance on entire dataset (here withoute cross validation)"
   ]
  },
  {
   "cell_type": "code",
   "execution_count": 19,
   "metadata": {},
   "outputs": [
    {
     "name": "stdout",
     "output_type": "stream",
     "text": [
      "Current iteration=0, loss=69329.41963251591\n",
      "weights size:0.00011500367132997651\n",
      "Current iteration=10000, loss=39850.58308588407\n",
      "weights size:3.9466733121429556\n",
      "Current iteration=20000, loss=38995.848163005365\n",
      "weights size:5.22011483723575\n",
      "Current iteration=30000, loss=39090.07414855655\n",
      "weights size:5.533675671480695\n",
      "Current iteration=40000, loss=38917.28943327911\n",
      "weights size:5.348124682223529\n",
      "Current iteration=50000, loss=39199.924327438\n",
      "weights size:5.49808260045738\n",
      "Current iteration=60000, loss=38868.37405440737\n",
      "weights size:5.118220449471801\n",
      "Current iteration=70000, loss=38847.56347529571\n",
      "weights size:5.423796997992938\n",
      "Current iteration=80000, loss=39037.477273451936\n",
      "weights size:5.538770820359847\n",
      "Current iteration=90000, loss=39144.69035506584\n",
      "weights size:5.426523194866387\n",
      "loss=39126.00279489747\n",
      "Current iteration=0, loss=53703.452163828064\n",
      "weights size:0.000132468746995737\n",
      "Current iteration=10000, loss=40117.62688569149\n",
      "weights size:2.595493105977552\n",
      "Current iteration=20000, loss=39489.14401356343\n",
      "weights size:2.9886215580958613\n",
      "Current iteration=30000, loss=39652.53572291706\n",
      "weights size:3.5372354318905597\n",
      "Current iteration=40000, loss=39039.78279621938\n",
      "weights size:3.806556982239779\n",
      "Current iteration=50000, loss=40503.164646103636\n",
      "weights size:3.4782499867037706\n",
      "Current iteration=60000, loss=39340.558983981435\n",
      "weights size:3.62780061517467\n",
      "Current iteration=70000, loss=38959.70471947554\n",
      "weights size:3.8569863449979427\n",
      "Current iteration=80000, loss=39791.989173159425\n",
      "weights size:3.863122608873323\n",
      "Current iteration=90000, loss=39345.202559826204\n",
      "weights size:3.598376662299979\n",
      "loss=39367.31958564088\n",
      "Current iteration=0, loss=50106.09572631753\n",
      "weights size:0.000204509092484431\n",
      "Current iteration=10000, loss=37163.290692343966\n",
      "weights size:2.2211793402102984\n",
      "Current iteration=20000, loss=36482.02556557597\n",
      "weights size:2.939695277463405\n",
      "Current iteration=30000, loss=35985.32135835115\n",
      "weights size:3.4300504977512234\n",
      "Current iteration=40000, loss=35991.593861682246\n",
      "weights size:3.499037732533156\n",
      "Current iteration=50000, loss=36947.89653815632\n",
      "weights size:3.9148233095077076\n",
      "Current iteration=60000, loss=35937.62560619208\n",
      "weights size:3.887919142005215\n",
      "Current iteration=70000, loss=36766.63807493925\n",
      "weights size:3.8576614739968744\n",
      "Current iteration=80000, loss=36238.94661748215\n",
      "weights size:3.880535113804674\n",
      "Current iteration=90000, loss=36290.02301977352\n",
      "weights size:4.057964993600314\n",
      "loss=36116.27840141439\n"
     ]
    }
   ],
   "source": [
    "y_t0, y_t1, y_t23 = transform_y_logistic(y_train, x_train)\n",
    "tx_t0, tx_t1, tx_t23 = transform_x_logistic(x_train)\n",
    "\n",
    "initial_w_0 = np.zeros((tx_t0.shape[1], 1))\n",
    "initial_w_1 = np.zeros((tx_t1.shape[1], 1))\n",
    "initial_w_23 = np.zeros((tx_t23.shape[1], 1))\n",
    "\n",
    "lambda_ = 0.01\n",
    "gamma = 0.005\n",
    "max_iters = 100000\n",
    "\n",
    "# Logistic regression\n",
    "#w_0, loss_w0 = logistic_regression(y_t0, tx_t0, initial_w_0, max_iters, gamma)\n",
    "#w_1, loss_w1 = logistic_regression(y_t1, tx_t1, initial_w_1, max_iters, gamma)\n",
    "#w_2, loss_w2 = logistic_regression(y_t23, tx_t23, initial_w_23, max_iters, gamma)\n",
    "\n",
    "# Regularized, stochastic logistic regression\n",
    "w_0, loss_w0 = reg_logistic_regression_SGD(y_t0, tx_t0, lambda_, initial_w_0, max_iters, gamma)\n",
    "w_1, loss_w1 = reg_logistic_regression_SGD(y_t1, tx_t1, lambda_, initial_w_1, max_iters, gamma)\n",
    "w_2, loss_w2 = reg_logistic_regression_SGD(y_t23, tx_t23, lambda_, initial_w_23, max_iters, gamma)\n",
    "\n",
    "# Newton logistic regression\n",
    "#w_0, loss_w0 = logistic_regression_newton(y_t0, tx_t0, lambda_, initial_w_0, max_iters, gamma)\n",
    "#w_1, loss_w1 = logistic_regression_newton(y_t1, tx_t1, lambda_, initial_w_1, max_iters, gamma)\n",
    "#w_2, loss_w2 = logistic_regression_newton(y_t23, tx_t23, lambda_, initial_w_23, max_iters, gamma)\n"
   ]
  },
  {
   "cell_type": "markdown",
   "metadata": {},
   "source": [
    "### Step 3\n",
    "Check accuracy of trained model on same training set"
   ]
  },
  {
   "cell_type": "code",
   "execution_count": 20,
   "metadata": {
    "scrolled": false
   },
   "outputs": [
    {
     "data": {
      "text/plain": [
       "0.77034"
      ]
     },
     "execution_count": 20,
     "metadata": {},
     "output_type": "execute_result"
    }
   ],
   "source": [
    "y_prediction_train = predict_labels_datasets_logistic(w_0, w_1, w_2, x_train, transform_x_logistic)\n",
    "compute_accuracy(y_train, y_prediction_train)"
   ]
  },
  {
   "cell_type": "markdown",
   "metadata": {},
   "source": [
    "### Create a submission file"
   ]
  },
  {
   "cell_type": "code",
   "execution_count": 21,
   "metadata": {},
   "outputs": [],
   "source": [
    "# Predict y_test to submit on kaggle\n",
    "y_prediction_test = predict_labels_datasets_logistic(w_0, w_1, w_2, x_test, transform_x_logistic)\n",
    "create_csv_submission(ids_test, y_prediction_test, \"submission.csv\")"
   ]
  },
  {
   "cell_type": "markdown",
   "metadata": {},
   "source": [
    "\n",
    "## Results of logistic regression\n",
    "1. gamma = 0.0005 max_iters = 10000000 lambda = 0 degree = 1 accuracy = 0.745748\n",
    "2. gamma = 0.0005 max_iters = 10000000 lambda = 0 degree = 2 accuracy = 0.80364 -> Kaggle 0.77300\n",
    "3. gamma = 0.0005 max_iters = 10000000 lambda = 0 degree = 3 accuracy = 0.791964 -> Kaggle 0.78508\n",
    "4. gamma = 0.0005 max_iters = 10000000 lambda = 0 degree = 4 accuracy = 0.791584\n",
    "\n",
    "8. gamma = 0.0005 max_iters = 10000000 lambda = 0 degree = 8 accuracy = 0.766736\n"
   ]
  }
 ],
 "metadata": {
  "kernelspec": {
   "display_name": "Python 3",
   "language": "python",
   "name": "python3"
  },
  "language_info": {
   "codemirror_mode": {
    "name": "ipython",
    "version": 3
   },
   "file_extension": ".py",
   "mimetype": "text/x-python",
   "name": "python",
   "nbconvert_exporter": "python",
   "pygments_lexer": "ipython3",
   "version": "3.6.6"
  }
 },
 "nbformat": 4,
 "nbformat_minor": 2
}
