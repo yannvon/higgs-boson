{
 "cells": [
  {
   "cell_type": "code",
   "execution_count": 1,
   "metadata": {},
   "outputs": [],
   "source": [
    "# Useful starting lines\n",
    "%matplotlib inline\n",
    "import numpy as np\n",
    "import matplotlib.pyplot as plt\n",
    "%load_ext autoreload\n",
    "%autoreload 2"
   ]
  },
  {
   "cell_type": "markdown",
   "metadata": {},
   "source": [
    "# Exploratory Data Analysis"
   ]
  },
  {
   "cell_type": "code",
   "execution_count": 5,
   "metadata": {},
   "outputs": [],
   "source": [
    "# Import Data and methods\n",
    "# --- IMPORTANT this notebook has to be run from inside the /notebook subdirectory for it to import properly\n",
    "import numpy as np\n",
    "import matplotlib.pyplot as plt\n",
    "# Path hack.\n",
    "import sys, os\n",
    "sys.path.insert(0, os.path.abspath('..'))\n",
    "import scripts.helpers as hp"
   ]
  },
  {
   "cell_type": "code",
   "execution_count": 7,
   "metadata": {},
   "outputs": [],
   "source": [
    "y_train, x_train, ids_train = hp.load_csv_data('../data/train.csv', sub_sample=False)"
   ]
  },
  {
   "cell_type": "markdown",
   "metadata": {},
   "source": [
    "## Five number Summary of training values for each feature\n",
    "1. the sample minimum\n",
    "2. the lower quartile\n",
    "3. the median\n",
    "4. the upper quartile or third quartile\n",
    "5. the sample maximum "
   ]
  },
  {
   "cell_type": "code",
   "execution_count": 8,
   "metadata": {},
   "outputs": [],
   "source": [
    "#Printe the five number summary of the data set\n",
    "def fiveNumberSummary(x_t):\n",
    "    np.set_printoptions(suppress=True)\n",
    "    print ('---the sample minimum for each feature---')\n",
    "    print(np.percentile(x_t,0,axis=0))\n",
    "    print('')\n",
    "    print('---the lower quartile for each feature---')\n",
    "    print(np.percentile(x_t,25,axis=0))\n",
    "    print('')\n",
    "    print('---the median for each feature---')\n",
    "    print(np.percentile(x_t,50,axis=0))\n",
    "    print('')\n",
    "    print('---the upper quartile for each feature---')\n",
    "    print(np.percentile(x_t,75,axis=0))\n",
    "    print('')\n",
    "    print('---the sample maximum for each feature---')\n",
    "    print(np.percentile(x_t,100,axis=0))\n",
    "    \n"
   ]
  },
  {
   "cell_type": "code",
   "execution_count": 9,
   "metadata": {},
   "outputs": [
    {
     "name": "stdout",
     "output_type": "stream",
     "text": [
      "---the sample minimum for each feature---\n",
      "[-999.       0.       6.329    0.    -999.    -999.    -999.       0.208\n",
      "    0.      46.104    0.047   -1.414 -999.      20.      -2.499   -3.142\n",
      "   26.      -2.505   -3.142    0.109   -3.142   13.678    0.    -999.    -999.\n",
      " -999.    -999.    -999.    -999.       0.   ]\n",
      "\n",
      "---the lower quartile for each feature---\n",
      "[  78.10075   19.241     59.38875   14.06875 -999.      -999.      -999.\n",
      "    1.81       2.841     77.55       0.883     -1.371   -999.        24.59175\n",
      "   -0.925     -1.575     32.375     -1.014     -1.522     21.398     -1.575\n",
      "  123.0175     0.      -999.      -999.      -999.      -999.      -999.\n",
      " -999.         0.     ]\n",
      "\n",
      "---the median for each feature---\n",
      "[ 105.012    46.524    73.752    38.4675 -999.     -999.     -999.\n",
      "    2.4915   12.3155  120.6645    1.28     -0.356  -999.       31.804\n",
      "   -0.023    -0.033    40.516    -0.045     0.086    34.802    -0.024\n",
      "  179.739     1.       38.96     -1.872    -2.093  -999.     -999.     -999.\n",
      "   40.5125]\n",
      "\n",
      "---the upper quartile for each feature---\n",
      "[ 130.60625   73.598     92.259     79.169      0.49      83.446     -4.593\n",
      "    2.961     27.591    200.47825    1.777      1.225      0.        45.017\n",
      "    0.898      1.565     53.39       0.959      1.618     51.895      1.561\n",
      "  263.37925    2.        75.349      0.433      0.503     33.703     -2.457\n",
      "   -2.275    109.93375]\n",
      "\n",
      "---the sample maximum for each feature---\n",
      "[ 1192.026   690.075  1349.351  2834.999     8.503  4974.979    16.69\n",
      "     5.684  2834.999  1852.462    19.773     1.414     1.      764.408\n",
      "     2.497     3.142   560.271     2.503     3.142  2842.617     3.142\n",
      "  2003.976     3.     1120.573     4.499     3.141   721.456     4.5\n",
      "     3.142  1633.433]\n"
     ]
    }
   ],
   "source": [
    "fiveNumberSummary(x_train)"
   ]
  },
  {
   "cell_type": "markdown",
   "metadata": {},
   "source": [
    "We can observe that some features have more than half of its values equal to -999 which probably distort the results. We could also see that there is something weird with the last feature as more than 25% of the value are equal to 0."
   ]
  },
  {
   "cell_type": "markdown",
   "metadata": {},
   "source": [
    "## Meaningless values (-999)"
   ]
  },
  {
   "cell_type": "markdown",
   "metadata": {},
   "source": [
    "By looking at the data, we can see that every values are continuous except PRI_jet_num which represents the number of jets that is categorical. The -999 values seem to be linked to the number of jets. The number of jets belongs to the following set: {0,1,2,3}. Let's check which features are -999 depending on the number of jets:"
   ]
  },
  {
   "cell_type": "code",
   "execution_count": 10,
   "metadata": {},
   "outputs": [
    {
     "name": "stdout",
     "output_type": "stream",
     "text": [
      "Features -999 when the number of jets is: 0\n",
      "The number of rows with the number of jets being 0 is 99913\n",
      "DER_mass_MMC has 26123 / 99913 meaningless values\n",
      "DER_deltaeta_jet_jet has 99913 / 99913 meaningless values\n",
      "DER_mass_jet_jet has 99913 / 99913 meaningless values\n",
      "DER_prodeta_jet_jet has 99913 / 99913 meaningless values\n",
      "DER_lep_eta_centrality has 99913 / 99913 meaningless values\n",
      "PRI_jet_leading_pt has 99913 / 99913 meaningless values\n",
      "PRI_jet_leading_eta has 99913 / 99913 meaningless values\n",
      "PRI_jet_leading_phi has 99913 / 99913 meaningless values\n",
      "PRI_jet_subleading_pt has 99913 / 99913 meaningless values\n",
      "PRI_jet_subleading_eta has 99913 / 99913 meaningless values\n",
      "PRI_jet_subleading_phi has 99913 / 99913 meaningless values\n",
      "\n",
      "\n",
      "Features -999 when the number of jets is: 1\n",
      "The number of rows with the number of jets being 1 is 77544\n",
      "DER_mass_MMC has 7562 / 77544 meaningless values\n",
      "DER_deltaeta_jet_jet has 77544 / 77544 meaningless values\n",
      "DER_mass_jet_jet has 77544 / 77544 meaningless values\n",
      "DER_prodeta_jet_jet has 77544 / 77544 meaningless values\n",
      "DER_lep_eta_centrality has 77544 / 77544 meaningless values\n",
      "PRI_jet_subleading_pt has 77544 / 77544 meaningless values\n",
      "PRI_jet_subleading_eta has 77544 / 77544 meaningless values\n",
      "PRI_jet_subleading_phi has 77544 / 77544 meaningless values\n",
      "\n",
      "\n",
      "Features -999 when the number of jets is: 2\n",
      "The number of rows with the number of jets being 2 is 50379\n",
      "DER_mass_MMC has 2952 / 50379 meaningless values\n",
      "\n",
      "\n",
      "Features -999 when the number of jets is: 3\n",
      "The number of rows with the number of jets being 3 is 22164\n",
      "DER_mass_MMC has 1477 / 22164 meaningless values\n",
      "\n",
      "\n"
     ]
    }
   ],
   "source": [
    "features = ['DER_mass_MMC','DER_mass_transverse_met_lep','DER_mass_vis','DER_pt_h','DER_deltaeta_jet_jet','DER_mass_jet_jet','DER_prodeta_jet_jet','DER_deltar_tau_lep','DER_pt_tot','DER_sum_pt','DER_pt_ratio_lep_tau','DER_met_phi_centrality','DER_lep_eta_centrality','PRI_tau_pt','PRI_tau_eta','PRI_tau_phi','PRI_lep_pt','PRI_lep_eta','PRI_lep_phi','PRI_met','PRI_met_phi','PRI_met_sumet','PRI_jet_num','PRI_jet_leading_pt','PRI_jet_leading_eta','PRI_jet_leading_phi','PRI_jet_subleading_pt','PRI_jet_subleading_eta','PRI_jet_subleading_phi','PRI_jet_all_pt']\n",
    "\n",
    "#Return the number of times a feature is meaningless depending on the number of jets.\n",
    "def nullFeatureDependingOnJetNmbr(nmr_jet):\n",
    "    nullFeatures = np.zeros(30)\n",
    "    count = 0\n",
    "    for r in x_train:\n",
    "        if(r[22] == nmr_jet):\n",
    "            for i in range(len(r)):\n",
    "                if(r[i] == -999):\n",
    "                    nullFeatures[i] += 1\n",
    "    return nullFeatures\n",
    "\n",
    "def printNullFeatureDependingOnJet():\n",
    "    for i in range(4):\n",
    "        nullFeaturesnm = nullFeatureDependingOnJetNmbr(i)\n",
    "        numberRowsWithJet = x_train[x_train[:,22]==i].shape[0]\n",
    "        print('Features -999 when the number of jets is:',i,)\n",
    "        print('The number of rows with the number of jets being',i,'is',numberRowsWithJet)\n",
    "        for j in range(30):\n",
    "            if nullFeaturesnm[j] != 0:\n",
    "                print(features[j],'has',int(nullFeaturesnm[j]),'/', numberRowsWithJet,'meaningless values')\n",
    "        print('')\n",
    "        print('')\n",
    "printNullFeatureDependingOnJet()"
   ]
  },
  {
   "cell_type": "markdown",
   "metadata": {},
   "source": [
    "We can observe 11 out of 30 features containing -999. 10 of them linked to jets. We can see that DER_mass_MMC is -999 more often when the number of jets is lower but is not always -999. \n",
    "\n",
    "There are 10 features that are always -999 when the number of jet is 0: \n",
    "\n",
    "* DER_deltaeta_jet_jet\n",
    "* DER_mass_jet_jet\n",
    "* DER_prodeta_jet_jet \n",
    "* DER_lep_eta_centrality \n",
    "* PRI_jet_leading_pt\n",
    "* PRI_jet_leading_eta\n",
    "* PRI_jet_leading_phi \n",
    "* PRI_jet_subleading_pt\n",
    "* PRI_jet_subleading_eta \n",
    "* PRI_jet_subleading_phi\n",
    "\n",
    "There are 7 features that are always -999 when the number of jet is 1: \n",
    "\n",
    "* DER_deltaeta_jet_jet\n",
    "* DER_mass_jet_jet\n",
    "* DER_prodeta_jet_jet\n",
    "* DER_lep_eta_centrality\n",
    "* PRI_jet_subleading_pt\n",
    "* PRI_jet_subleading_eta\n",
    "* PRI_jet_subleading_phi\n",
    "\n",
    "There are no features that are always -99 when the number of jets is 2 or 3"
   ]
  },
  {
   "cell_type": "markdown",
   "metadata": {},
   "source": [
    "## Zero values"
   ]
  },
  {
   "cell_type": "markdown",
   "metadata": {},
   "source": [
    "By looking at the data, we can guess that the feature PRI_jet_all_pt seems to be always zero when the number of jet is equal to 0. Let's check that hypothesis:"
   ]
  },
  {
   "cell_type": "code",
   "execution_count": 11,
   "metadata": {},
   "outputs": [
    {
     "name": "stdout",
     "output_type": "stream",
     "text": [
      "PRI_jet_all_pt has 99913 / 99913 zero values\n"
     ]
    }
   ],
   "source": [
    "nullFeaturesnm0 = nullFeatureDependingOnJetNmbr(0)\n",
    "numberRowsWithJet = x_train[x_train[:,22]==0].shape[0]\n",
    "count = 0\n",
    "for r in x_train[x_train[:,22]==0]:\n",
    "    if(r[29] == 0):\n",
    "        count = count+1\n",
    "print(features[29],'has',count,'/', numberRowsWithJet,'zero values')"
   ]
  },
  {
   "cell_type": "markdown",
   "metadata": {},
   "source": [
    "## Correlation"
   ]
  },
  {
   "cell_type": "markdown",
   "metadata": {},
   "source": [
    "Pearson product-moment correlation coefficients to check the correlation between the variables and y"
   ]
  },
  {
   "cell_type": "code",
   "execution_count": 12,
   "metadata": {},
   "outputs": [
    {
     "name": "stdout",
     "output_type": "stream",
     "text": [
      "Correlation between y and DER_mass_MMC 0.239149057892\n",
      "Correlation between y and DER_mass_transverse_met_lep -0.351427955862\n",
      "Correlation between y and DER_mass_vis -0.0140552737849\n",
      "Correlation between y and DER_pt_h 0.192526328569\n",
      "Correlation between y and DER_deltaeta_jet_jet 0.141645992566\n",
      "Correlation between y and DER_mass_jet_jet 0.191766088075\n",
      "Correlation between y and DER_prodeta_jet_jet 0.140554400465\n",
      "Correlation between y and DER_deltar_tau_lep 0.0122454812855\n",
      "Correlation between y and DER_pt_tot -0.0152874266878\n",
      "Correlation between y and DER_sum_pt 0.153235932476\n",
      "Correlation between y and DER_pt_ratio_lep_tau -0.195397896183\n",
      "Correlation between y and DER_met_phi_centrality 0.271751877052\n",
      "Correlation between y and DER_lep_eta_centrality 0.141345988596\n",
      "Correlation between y and PRI_tau_pt 0.235237975878\n",
      "Correlation between y and PRI_tau_eta -0.000943251058212\n",
      "Correlation between y and PRI_tau_phi -0.00440253868639\n",
      "Correlation between y and PRI_lep_pt -0.0319475868053\n",
      "Correlation between y and PRI_lep_eta 0.00151623537706\n",
      "Correlation between y and PRI_lep_phi 0.00412544741152\n",
      "Correlation between y and PRI_met 0.0224657515108\n",
      "Correlation between y and PRI_met_phi 0.00747534218859\n",
      "Correlation between y and PRI_met_sumet 0.135520261523\n",
      "Correlation between y and PRI_jet_num 0.133549123082\n",
      "Correlation between y and PRI_jet_leading_pt 0.157604145676\n",
      "Correlation between y and PRI_jet_leading_eta 0.15046926005\n",
      "Correlation between y and PRI_jet_leading_phi 0.150468037793\n",
      "Correlation between y and PRI_jet_subleading_pt 0.14071436695\n",
      "Correlation between y and PRI_jet_subleading_eta 0.141264913776\n",
      "Correlation between y and PRI_jet_subleading_phi 0.141255686505\n",
      "Correlation between y and PRI_jet_all_pt 0.134295726669\n"
     ]
    }
   ],
   "source": [
    "for i in range(30):\n",
    "    print('Correlation between y and',features[i], np.corrcoef(y_train,x_train[:,i])[0][1])"
   ]
  },
  {
   "cell_type": "markdown",
   "metadata": {},
   "source": [
    "Pearson product-moment correlation coefficients to check the correlation between the variables"
   ]
  },
  {
   "cell_type": "code",
   "execution_count": 13,
   "metadata": {},
   "outputs": [
    {
     "name": "stdout",
     "output_type": "stream",
     "text": [
      "Correlation between DER_deltaeta_jet_jet  and  DER_prodeta_jet_jet\n",
      "Correlation between DER_deltaeta_jet_jet  and  DER_lep_eta_centrality\n",
      "Correlation between DER_deltaeta_jet_jet  and  PRI_jet_subleading_pt\n",
      "Correlation between DER_deltaeta_jet_jet  and  PRI_jet_subleading_eta\n",
      "Correlation between DER_deltaeta_jet_jet  and  PRI_jet_subleading_phi\n",
      "Correlation between DER_prodeta_jet_jet  and  DER_lep_eta_centrality\n",
      "Correlation between DER_prodeta_jet_jet  and  PRI_jet_subleading_pt\n",
      "Correlation between DER_prodeta_jet_jet  and  PRI_jet_subleading_eta\n",
      "Correlation between DER_prodeta_jet_jet  and  PRI_jet_subleading_phi\n",
      "Correlation between DER_sum_pt  and  PRI_jet_all_pt\n",
      "Correlation between DER_lep_eta_centrality  and  PRI_jet_subleading_pt\n",
      "Correlation between DER_lep_eta_centrality  and  PRI_jet_subleading_eta\n",
      "Correlation between DER_lep_eta_centrality  and  PRI_jet_subleading_phi\n",
      "Correlation between PRI_jet_leading_pt  and  PRI_jet_leading_eta\n",
      "Correlation between PRI_jet_leading_pt  and  PRI_jet_leading_phi\n",
      "Correlation between PRI_jet_leading_eta  and  PRI_jet_leading_phi\n",
      "Correlation between PRI_jet_subleading_pt  and  PRI_jet_subleading_eta\n",
      "Correlation between PRI_jet_subleading_pt  and  PRI_jet_subleading_phi\n",
      "Correlation between PRI_jet_subleading_eta  and  PRI_jet_subleading_phi\n"
     ]
    }
   ],
   "source": [
    "corrBetweenVariables = np.corrcoef([x_train[:,0],x_train[:,1],x_train[:,2],x_train[:,3],x_train[:,4],x_train[:,5],x_train[:,6],x_train[:,7],x_train[:,8],x_train[:,9],x_train[:,10],x_train[:,11],x_train[:,12],x_train[:,13],x_train[:,14],x_train[:,15],x_train[:,16],x_train[:,17],x_train[:,18],x_train[:,19],x_train[:,20],x_train[:,21],x_train[:,22],x_train[:,23],x_train[:,24],x_train[:,25],x_train[:,26],x_train[:,27],x_train[:,28],x_train[:,29]])\n",
    "threshold = 0.95\n",
    "for i in range(x_train.shape[1]):\n",
    "    for j in range(i+1,x_train.shape[1]):\n",
    "            if(abs(corrBetweenVariables[i][j]) > threshold):\n",
    "                print('Correlation between',features[i],' and ',features[j])\n",
    "        "
   ]
  },
  {
   "cell_type": "markdown",
   "metadata": {},
   "source": [
    "The conclusion from the correlation computed above are not significant enough as we would probably need to work on the dataset before computing them."
   ]
  }
 ],
 "metadata": {
  "kernelspec": {
   "display_name": "Python 3",
   "language": "python",
   "name": "python3"
  },
  "language_info": {
   "codemirror_mode": {
    "name": "ipython",
    "version": 3
   },
   "file_extension": ".py",
   "mimetype": "text/x-python",
   "name": "python",
   "nbconvert_exporter": "python",
   "pygments_lexer": "ipython3",
   "version": "3.6.6"
  }
 },
 "nbformat": 4,
 "nbformat_minor": 2
}
