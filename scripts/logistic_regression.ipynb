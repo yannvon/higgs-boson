{
 "cells": [
  {
   "cell_type": "code",
   "execution_count": 6,
   "metadata": {},
   "outputs": [
    {
     "name": "stdout",
     "output_type": "stream",
     "text": [
      "The autoreload extension is already loaded. To reload it, use:\n",
      "  %reload_ext autoreload\n"
     ]
    }
   ],
   "source": [
    "# Useful starting lines\n",
    "%matplotlib inline\n",
    "import numpy as np\n",
    "import matplotlib.pyplot as plt\n",
    "%load_ext autoreload\n",
    "%autoreload 2"
   ]
  },
  {
   "cell_type": "code",
   "execution_count": 7,
   "metadata": {},
   "outputs": [],
   "source": [
    "# Import helpers and model implementations\n",
    "from implementations import *\n",
    "from cross_validation import *\n",
    "from helpers import *\n",
    "from split import *"
   ]
  },
  {
   "cell_type": "code",
   "execution_count": 8,
   "metadata": {},
   "outputs": [],
   "source": [
    "# Import Data set\n",
    "y_train_l, x_train_l, ids_train = load_csv_data('../data/train.csv', sub_sample=False)\n",
    "_, x_test_l, ids_test = load_csv_data('../data/test.csv', sub_sample=False)"
   ]
  },
  {
   "cell_type": "markdown",
   "metadata": {},
   "source": [
    "# Entire Pipeline in one go: From Cleaning to Submission\n",
    "## Logistic Regression"
   ]
  },
  {
   "cell_type": "code",
   "execution_count": 9,
   "metadata": {},
   "outputs": [],
   "source": [
    "# Copy arrys from memory, this step can be skipped in run.py\n",
    "# Important, all following cells have to be executed in order from here on.\n",
    "x_train, y_train = np.copy(x_train_l), np.copy(y_train_l)\n",
    "x_test = np.copy(x_test_l)\n",
    "\n",
    "# Set seed\n",
    "seed = 1"
   ]
  },
  {
   "cell_type": "markdown",
   "metadata": {},
   "source": [
    "## Creation of a model we can submit\n",
    "### Step 1\n",
    "All we need to do to adapt this pipeline to another model, is to change the following two transform methods"
   ]
  },
  {
   "cell_type": "code",
   "execution_count": 10,
   "metadata": {},
   "outputs": [],
   "source": [
    "def transform_x_logistic(x, deg):\n",
    "    # Step 1: Replace the -999 values in the first column by the mean\n",
    "    x[:, 0][x[:, 0] == -999.0] = np.mean(x[:, 0][x[:, 0] != -999.0])\n",
    "    \n",
    "    # Step 2: Split data set into 3 datasets depending on jet num\n",
    "    x_0, x_1, x_23 = split_x(x)\n",
    "    \n",
    "    # Step 3: Remove aberrant data to be sure to have no outliers left\n",
    "    remove_aberrant(x_0)\n",
    "    remove_aberrant(x_1)\n",
    "    remove_aberrant(x_23)\n",
    "    \n",
    "    # (opt) Add polynomial basis\n",
    "    degree = 2\n",
    "    x_0 = build_poly(x_0, degree)\n",
    "    x_1 = build_poly(x_1, degree)\n",
    "    x_23 = build_poly(x_23, degree)\n",
    "\n",
    "    # Step 4: Standardize data\n",
    "    x_0, x_0_mean, x_0_std = standardize(x_0)\n",
    "    x_1, x_1_mean, x_1_std = standardize(x_1)\n",
    "    x_23, x_23_mean, x_23_std = standardize(x_23)\n",
    "    \n",
    "    # Step 5: Other feature expansion\n",
    "    # 5.1 add column with constant terms\n",
    "    tx_0 = np.c_[np.ones((x_0.shape[0], 1)), x_0]\n",
    "    tx_1 = np.c_[np.ones((x_1.shape[0], 1)), x_1]\n",
    "    tx_23 = np.c_[np.ones((x_23.shape[0], 1)), x_23]\n",
    "\n",
    "    # (opt) 5.2 nonlinear expansion\n",
    "    \n",
    "    # Final step: return all transformed data\n",
    "    return tx_0, tx_1, tx_23\n",
    "\n",
    "def transform_y_logistic(y, x):\n",
    "    # Step 1: add dimension to y \n",
    "    y = np.expand_dims(y, axis=1)\n",
    "    \n",
    "    # For logistic regression only: bring y back to 0 and 1 -> for logistic regression #FIXME bring back\n",
    "    y = np.array([0 if i == -1 else 1 for i in y])\n",
    "    \n",
    "    # Step 2: Split data set into 3 datasets depending on jet num\n",
    "    y_0, y_1, y_23 = split_y(y, x)\n",
    "\n",
    "    return y_0, y_1, y_23\n",
    "    "
   ]
  },
  {
   "cell_type": "markdown",
   "metadata": {},
   "source": [
    "### Step 2\n",
    "Test performance on entire dataset (here withoute cross validation)"
   ]
  },
  {
   "cell_type": "code",
   "execution_count": null,
   "metadata": {},
   "outputs": [],
   "source": [
    "y_t0, y_t1, y_t23 = transform_y_logistic(y_train, x_train)\n",
    "tx_t0, tx_t1, tx_t23 = transform_x_logistic(x_train, 1)\n",
    "\n",
    "initial_w_0 = np.zeros((tx_t0.shape[1], 1))\n",
    "initial_w_1 = np.zeros((tx_t1.shape[1], 1))\n",
    "initial_w_23 = np.zeros((tx_t23.shape[1], 1))\n",
    "\n",
    "lambda_ = 0.0\n",
    "gamma = 0.005\n",
    "max_iters = 100000\n",
    "\n",
    "# Logistic regression\n",
    "#w_0, loss_w0 = logistic_regression(y_t0, tx_t0, initial_w_0, max_iters, gamma)\n",
    "#w_1, loss_w1 = logistic_regression(y_t1, tx_t1, initial_w_1, max_iters, gamma)\n",
    "#w_2, loss_w2 = logistic_regression(y_t23, tx_t23, initial_w_23, max_iters, gamma)\n",
    "\n",
    "# Regularized, stochastic logistic regression\n",
    "w_0, loss_w0 = reg_logistic_regression_SGD(y_t0, tx_t0, lambda_, initial_w_0, max_iters, gamma)\n",
    "w_1, loss_w1 = reg_logistic_regression_SGD(y_t1, tx_t1, lambda_, initial_w_1, max_iters, gamma)\n",
    "w_2, loss_w2 = reg_logistic_regression_SGD(y_t23, tx_t23, lambda_, initial_w_23, max_iters, gamma)\n",
    "\n",
    "# Newton logistic regression\n",
    "#w_0, loss_w0 = logistic_regression_newton(y_t0, tx_t0, lambda_, initial_w_0, max_iters, gamma)\n",
    "#w_1, loss_w1 = logistic_regression_newton(y_t1, tx_t1, lambda_, initial_w_1, max_iters, gamma)\n",
    "#w_2, loss_w2 = logistic_regression_newton(y_t23, tx_t23, lambda_, initial_w_23, max_iters, gamma)\n"
   ]
  },
  {
   "cell_type": "markdown",
   "metadata": {},
   "source": [
    "### Step 3\n",
    "Check accuracy of trained model on same training set"
   ]
  },
  {
   "cell_type": "code",
   "execution_count": 14,
   "metadata": {
    "scrolled": false
   },
   "outputs": [
    {
     "data": {
      "text/plain": [
       "0.787844"
      ]
     },
     "execution_count": 14,
     "metadata": {},
     "output_type": "execute_result"
    }
   ],
   "source": [
    "y_prediction_train = predict_labels_datasets_logistic(w_0, w_1, w_2, x_train, transform_x_logistic, 1)\n",
    "compute_accuracy(y_train, y_prediction_train)"
   ]
  },
  {
   "cell_type": "markdown",
   "metadata": {},
   "source": [
    "### Create a submission file"
   ]
  },
  {
   "cell_type": "code",
   "execution_count": 16,
   "metadata": {},
   "outputs": [],
   "source": [
    "# Predict y_test to submit on kaggle\n",
    "y_prediction_test = predict_labels_datasets_logistic(w_0, w_1, w_2, x_test, transform_x_logistic, 1)\n",
    "create_csv_submission(ids_test, y_prediction_test, \"submission.csv\")"
   ]
  },
  {
   "cell_type": "markdown",
   "metadata": {},
   "source": [
    "\n",
    "## Results of logistic regression\n",
    "1. gamma = 0.0005 max_iters = 10000000 lambda = 0 degree = 1 accuracy = 0.745748\n",
    "2. gamma = 0.0005 max_iters = 10000000 lambda = 0 degree = 2 accuracy = 0.80364 -> Kaggle 0.77300\n",
    "3. gamma = 0.0005 max_iters = 10000000 lambda = 0 degree = 3 accuracy = 0.791964 -> Kaggle 0.78508\n",
    "4. gamma = 0.0005 max_iters = 10000000 lambda = 0 degree = 4 accuracy = 0.791584\n",
    "\n",
    "8. gamma = 0.0005 max_iters = 10000000 lambda = 0 degree = 8 accuracy = 0.766736\n"
   ]
  }
 ],
 "metadata": {
  "kernelspec": {
   "display_name": "Python 3",
   "language": "python",
   "name": "python3"
  },
  "language_info": {
   "codemirror_mode": {
    "name": "ipython",
    "version": 3
   },
   "file_extension": ".py",
   "mimetype": "text/x-python",
   "name": "python",
   "nbconvert_exporter": "python",
   "pygments_lexer": "ipython3",
   "version": "3.6.6"
  }
 },
 "nbformat": 4,
 "nbformat_minor": 2
}
