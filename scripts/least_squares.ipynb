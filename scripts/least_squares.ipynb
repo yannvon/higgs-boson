{
 "cells": [
  {
   "cell_type": "code",
   "execution_count": 1,
   "metadata": {},
   "outputs": [],
   "source": [
    "# Useful starting lines\n",
    "%matplotlib inline\n",
    "import numpy as np\n",
    "import matplotlib.pyplot as plt\n",
    "%load_ext autoreload\n",
    "%autoreload 2"
   ]
  },
  {
   "cell_type": "code",
   "execution_count": 1,
   "metadata": {},
   "outputs": [],
   "source": [
    "# Import helpers and model implementations\n",
    "from implementations import *\n",
    "from cross_validation import *\n",
    "from helpers import *\n",
    "from split import *"
   ]
  },
  {
   "cell_type": "code",
   "execution_count": 2,
   "metadata": {},
   "outputs": [],
   "source": [
    "# Import Data set\n",
    "y_train_l, x_train_l, ids_train = load_csv_data('../data/train.csv', sub_sample=False)\n",
    "_, x_test_l, ids_test = load_csv_data('../data/test.csv', sub_sample=False)"
   ]
  },
  {
   "cell_type": "markdown",
   "metadata": {},
   "source": [
    "# Entire Pipeline in one go: From Cleaning to Submission\n",
    "## Linear Regression: Solving normal equations (Least squares)"
   ]
  },
  {
   "cell_type": "code",
   "execution_count": 3,
   "metadata": {},
   "outputs": [],
   "source": [
    "# Copy arrys from memory, this step can be skipped in run.py\n",
    "# Important, all following cells have to be executed in order from here on.\n",
    "x_train, y_train = np.copy(x_train_l), np.copy(y_train_l)\n",
    "x_test = np.copy(x_test_l)\n",
    "\n",
    "# Set seed\n",
    "seed = 1"
   ]
  },
  {
   "cell_type": "markdown",
   "metadata": {},
   "source": [
    "## Creation of a model we can submit\n",
    "### Step 1\n",
    "All we need to do to adapt this pipeline to another model, is to change the following two transform methods"
   ]
  },
  {
   "cell_type": "code",
   "execution_count": 9,
   "metadata": {},
   "outputs": [],
   "source": [
    "# STEP 1: Define two methods, one tranforms x, the other y\n",
    "\n",
    "def transform_x_least_squares(x, deg):\n",
    "    # Step 1: Replace the -999 values in the first column by the mean\n",
    "    x[:, 0][x[:, 0] == -999.0] = np.mean(x[:, 0][x[:, 0] != -999.0])\n",
    "    \n",
    "    # Step 2: Split data set into 3 datasets depending on jet num\n",
    "    x_0, x_1, x_23 = split_x(x)\n",
    "    \n",
    "    # Step 3: Remove aberrant just to be sure\n",
    "    # Step 4: Standardize data\n",
    "    x_0, x_0_mean, x_0_std = standardize(x_0)\n",
    "    x_1, x_1_mean, x_1_std = standardize(x_1)\n",
    "    x_23, x_23_mean, x_23_std = standardize(x_23)\n",
    "    \n",
    "    # Step 5: Feature expansion\n",
    "    # 5.1 add column with constant terms\n",
    "    tx_0 = np.c_[np.ones((x_0.shape[0], 1)), x_0]\n",
    "    tx_1 = np.c_[np.ones((x_1.shape[0], 1)), x_1]\n",
    "    tx_23 = np.c_[np.ones((x_23.shape[0], 1)), x_23]\n",
    "\n",
    "    # 5.2 polynomial basis\n",
    "\n",
    "    # 5.3 nonlinear expansion\n",
    "    \n",
    "    # Final step: return all transformed data\n",
    "    return tx_0, tx_1, tx_23\n",
    "\n",
    "def transform_y_least_squares(y, x):\n",
    "    # Step 1: add dimension to y \n",
    "    y = np.expand_dims(y, axis=1)\n",
    "    \n",
    "    # Step 2: Split data set into 3 datasets depending on jet num\n",
    "    y_0, y_1, y_23 = split_y(y, x)\n",
    "\n",
    "    return y_0, y_1, y_23\n",
    "    "
   ]
  },
  {
   "cell_type": "markdown",
   "metadata": {},
   "source": [
    "### Step 2\n",
    "Test performance on entire dataset (here withoute cross validation)"
   ]
  },
  {
   "cell_type": "code",
   "execution_count": 11,
   "metadata": {},
   "outputs": [],
   "source": [
    "y_t0, y_t1, y_t23 = transform_y_least_squares(y_train, x_train)\n",
    "tx_t0, tx_t1, tx_t23 = transform_x_least_squares(x_train, 1)\n",
    "\n",
    "w_0, loss_w0 = least_squares(y_t0, tx_t0)\n",
    "w_1, loss_w1 = least_squares(y_t1, tx_t1)\n",
    "w_2, loss_w2 = least_squares(y_t23, tx_t23)"
   ]
  },
  {
   "cell_type": "markdown",
   "metadata": {},
   "source": [
    "### Step 3\n",
    "Check accuracy of trained model on same training set"
   ]
  },
  {
   "cell_type": "code",
   "execution_count": 12,
   "metadata": {},
   "outputs": [
    {
     "data": {
      "text/plain": [
       "0.75976"
      ]
     },
     "execution_count": 12,
     "metadata": {},
     "output_type": "execute_result"
    }
   ],
   "source": [
    "y_prediction_train = predict_labels_datasets(w_0, w_1, w_2, x_train, transform_x_least_squares, 1)\n",
    "compute_accuracy(y_train, y_prediction_train)"
   ]
  },
  {
   "cell_type": "markdown",
   "metadata": {},
   "source": [
    "### Create a submission file"
   ]
  },
  {
   "cell_type": "code",
   "execution_count": 14,
   "metadata": {},
   "outputs": [],
   "source": [
    "# Predict y_test to submit on kaggle\n",
    "y_prediction_test = predict_labels_datasets(w_0, w_1, w_2, x_test, transform_x_least_squares, 1)\n",
    "create_csv_submission(ids_test, y_prediction_test, \"submission.csv\")"
   ]
  }
 ],
 "metadata": {
  "kernelspec": {
   "display_name": "Python 3",
   "language": "python",
   "name": "python3"
  },
  "language_info": {
   "codemirror_mode": {
    "name": "ipython",
    "version": 3
   },
   "file_extension": ".py",
   "mimetype": "text/x-python",
   "name": "python",
   "nbconvert_exporter": "python",
   "pygments_lexer": "ipython3",
   "version": "3.6.6"
  }
 },
 "nbformat": 4,
 "nbformat_minor": 2
}
