{
 "cells": [
  {
   "cell_type": "markdown",
   "metadata": {},
   "source": [
    "Exploritary Data Analysis"
   ]
  },
  {
   "cell_type": "code",
   "execution_count": 48,
   "metadata": {},
   "outputs": [],
   "source": [
    "import numpy as np\n",
    "import matplotlib.pyplot as plt\n",
    "# Import Data and methods\n",
    "from scripts import proj1_helpers as hp\n",
    "y_train, x_train, ids_train = hp.load_csv_data('./data/train.csv', sub_sample=False)"
   ]
  },
  {
   "cell_type": "markdown",
   "metadata": {},
   "source": [
    "1) Five number Summary of training values for each feature\n",
    "    - the sample minimum\n",
    "    - the lower quartile\n",
    "    - the median\n",
    "    - the upper quartile or third quartile\n",
    "    - the sample maximum "
   ]
  },
  {
   "cell_type": "code",
   "execution_count": 49,
   "metadata": {},
   "outputs": [],
   "source": [
    "def fiveNumberSummary(x_t):\n",
    "    np.set_printoptions(suppress=True)\n",
    "    print ('---the sample minimum for each feature---')\n",
    "    print(np.percentile(x_t,0,axis=0))\n",
    "    print('---the lower quartile for each feature---')\n",
    "    print(np.percentile(x_t,25,axis=0))\n",
    "    print('---the median for each feature---')\n",
    "    print(np.percentile(x_t,50,axis=0))\n",
    "    print('---the upper quartile for each feature---')\n",
    "    print(np.percentile(x_t,75,axis=0))\n",
    "    print('---maximum for each feature---')\n",
    "    print(np.percentile(x_t,100,axis=0))\n",
    "    \n"
   ]
  },
  {
   "cell_type": "code",
   "execution_count": 50,
   "metadata": {},
   "outputs": [
    {
     "name": "stdout",
     "output_type": "stream",
     "text": [
      "---the sample minimum for each feature---\n",
      "[-999.       0.       6.329    0.    -999.    -999.    -999.       0.208\n",
      "    0.      46.104    0.047   -1.414 -999.      20.      -2.499   -3.142\n",
      "   26.      -2.505   -3.142    0.109   -3.142   13.678    0.    -999.\n",
      " -999.    -999.    -999.    -999.    -999.       0.   ]\n",
      "---the lower quartile for each feature---\n",
      "[  78.10075   19.241     59.38875   14.06875 -999.      -999.\n",
      " -999.         1.81       2.841     77.55       0.883     -1.371\n",
      " -999.        24.59175   -0.925     -1.575     32.375     -1.014\n",
      "   -1.522     21.398     -1.575    123.0175     0.      -999.\n",
      " -999.      -999.      -999.      -999.      -999.         0.     ]\n",
      "---the median for each feature---\n",
      "[ 105.012    46.524    73.752    38.4675 -999.     -999.     -999.\n",
      "    2.4915   12.3155  120.6645    1.28     -0.356  -999.       31.804\n",
      "   -0.023    -0.033    40.516    -0.045     0.086    34.802    -0.024\n",
      "  179.739     1.       38.96     -1.872    -2.093  -999.     -999.\n",
      " -999.       40.5125]\n",
      "---the upper quartile for each feature---\n",
      "[130.60625  73.598    92.259    79.169     0.49     83.446    -4.593\n",
      "   2.961    27.591   200.47825   1.777     1.225     0.       45.017\n",
      "   0.898     1.565    53.39      0.959     1.618    51.895     1.561\n",
      " 263.37925   2.       75.349     0.433     0.503    33.703    -2.457\n",
      "  -2.275   109.93375]\n",
      "---maximum for each feature---\n",
      "[1192.026  690.075 1349.351 2834.999    8.503 4974.979   16.69     5.684\n",
      " 2834.999 1852.462   19.773    1.414    1.     764.408    2.497    3.142\n",
      "  560.271    2.503    3.142 2842.617    3.142 2003.976    3.    1120.573\n",
      "    4.499    3.141  721.456    4.5      3.142 1633.433]\n"
     ]
    }
   ],
   "source": [
    "fiveNumberSummary(x_train)"
   ]
  },
  {
   "cell_type": "markdown",
   "metadata": {},
   "source": [
    "Conclusion: It can observe that some features have more than half of its values equal to -999 which probably distort the results"
   ]
  },
  {
   "cell_type": "markdown",
   "metadata": {},
   "source": [
    "By looking at the data, we can see that every values are continuous except PRI_jet_num which represents the number of jets that is categorical. The -999 values seem to be linked to the number of jets. The number of jets belongs to the following set: {0,1,2,3}. Let's check which features are -999 depending on the number of jets:"
   ]
  },
  {
   "cell_type": "code",
   "execution_count": 85,
   "metadata": {},
   "outputs": [],
   "source": [
    "features = ['DER_mass_MMC','DER_mass_transverse_met_lep','DER_mass_vis','DER_pt_h','DER_deltaeta_jet_jet','DER_mass_jet_jet','DER_prodeta_jet_jet','DER_deltar_tau_lep','DER_pt_tot','DER_sum_pt','DER_pt_ratio_lep_tau','DER_met_phi_centrality','DER_lep_eta_centrality','PRI_tau_pt','PRI_tau_eta','PRI_tau_phi','PRI_lep_pt','PRI_lep_eta','PRI_lep_phi','PRI_met','PRI_met_phi','PRI_met_sumet','PRI_jet_num','PRI_jet_leading_pt','PRI_jet_leading_eta','PRI_jet_leading_phi','PRI_jet_subleading_pt','PRI_jet_subleading_eta','PRI_jet_subleading_phi','PRI_jet_all_pt']\n",
    "\n",
    "\n",
    "def nullFeatureDependingOnJetNmbr(nmr_jet):\n",
    "    nullFeatures = np.zeros(30)\n",
    "    count = 0\n",
    "    for r in x_train:\n",
    "        if(r[22] == nmr_jet):\n",
    "            for i in range(len(r)):\n",
    "                if(r[i] == -999):\n",
    "                    nullFeatures[i] += 1\n",
    "    return nullFeatures"
   ]
  },
  {
   "cell_type": "code",
   "execution_count": 101,
   "metadata": {},
   "outputs": [
    {
     "name": "stdout",
     "output_type": "stream",
     "text": [
      "[26123.     0.     0.     0. 99913. 99913. 99913.     0.     0.     0.\n",
      "     0.     0. 99913.     0.     0.     0.     0.     0.     0.     0.\n",
      "     0.     0.     0. 99913. 99913. 99913. 99913. 99913. 99913.     0.]\n",
      "[ 7562.     0.     0.     0. 77544. 77544. 77544.     0.     0.     0.\n",
      "     0.     0. 77544.     0.     0.     0.     0.     0.     0.     0.\n",
      "     0.     0.     0.     0.     0.     0. 77544. 77544. 77544.     0.]\n",
      "[2952.    0.    0.    0.    0.    0.    0.    0.    0.    0.    0.    0.\n",
      "    0.    0.    0.    0.    0.    0.    0.    0.    0.    0.    0.    0.\n",
      "    0.    0.    0.    0.    0.    0.]\n",
      "[1477.    0.    0.    0.    0.    0.    0.    0.    0.    0.    0.    0.\n",
      "    0.    0.    0.    0.    0.    0.    0.    0.    0.    0.    0.    0.\n",
      "    0.    0.    0.    0.    0.    0.]\n"
     ]
    }
   ],
   "source": [
    "nullFeaturesnm0 = nullFeatureDependingOnJetNmbr(0.0)\n",
    "nullFeaturesnm1 = nullFeatureDependingOnJetNmbr(1.0)\n",
    "nullFeaturesnm2 = nullFeatureDependingOnJetNmbr(2.0)\n",
    "nullFeaturesnm3 = nullFeatureDependingOnJetNmbr(3.0)\n",
    "print(nullFeaturesnm0)\n",
    "print(nullFeaturesnm1)\n",
    "print(nullFeaturesnm2)\n",
    "print(nullFeaturesnm3)"
   ]
  },
  {
   "cell_type": "code",
   "execution_count": 100,
   "metadata": {},
   "outputs": [
    {
     "name": "stdout",
     "output_type": "stream",
     "text": [
      "Features -999 when the number of jets is 0: \n",
      "number of features: 11\n",
      "['DER_mass_MMC', 'DER_deltaeta_jet_jet', 'DER_mass_jet_jet', 'DER_prodeta_jet_jet', 'DER_lep_eta_centrality', 'PRI_jet_leading_pt', 'PRI_jet_leading_eta', 'PRI_jet_leading_phi', 'PRI_jet_subleading_pt', 'PRI_jet_subleading_eta', 'PRI_jet_subleading_phi']\n",
      "Features -999 when the number of jets is 1: \n",
      "number of features: 8\n",
      "['DER_mass_MMC', 'DER_deltaeta_jet_jet', 'DER_mass_jet_jet', 'DER_prodeta_jet_jet', 'DER_lep_eta_centrality', 'PRI_jet_subleading_pt', 'PRI_jet_subleading_eta', 'PRI_jet_subleading_phi']\n",
      "Features -999 when the number of jets is 2: \n",
      "number of features: 1\n",
      "['DER_mass_MMC']\n",
      "Features -999 when the number of jets is 3: \n",
      "number of features: 1\n",
      "['DER_mass_MMC']\n"
     ]
    }
   ],
   "source": [
    "nF0 = []\n",
    "nF1 = []\n",
    "nF2 = []\n",
    "nF3 = []\n",
    "for i in range(30):\n",
    "    if nullFeaturesnm0[i] != 0:\n",
    "        nF0.append(features[i])\n",
    "    if nullFeaturesnm1[i] != 0:\n",
    "        nF1.append(features[i])\n",
    "    if nullFeaturesnm2[i] != 0:\n",
    "        nF2.append(features[i])\n",
    "    if nullFeaturesnm3[i] != 0:\n",
    "        nF3.append(features[i])\n",
    "print(\"Features -999 when the number of jets is 0: \")\n",
    "print('number of features:',len(nF0))\n",
    "print(nF0)\n",
    "print(\"Features -999 when the number of jets is 1: \")\n",
    "print('number of features:',len(nF1))\n",
    "print(nF1)\n",
    "print(\"Features -999 when the number of jets is 2: \")\n",
    "print('number of features:',len(nF2))\n",
    "print(nF2)\n",
    "print(\"Features -999 when the number of jets is 3: \")\n",
    "print('number of features:',len(nF3))\n",
    "print(nF3)"
   ]
  },
  {
   "cell_type": "markdown",
   "metadata": {},
   "source": [
    "We can observe 11 out of 30 features containing -999. 10 of them linked to jets. We can see that DER_mass_MMC is -999 more often when the number of jets is lower but is not always -999. \n",
    "\n",
    "There are 10 features that are always -999 when the number of jet is 0: \n",
    "\n",
    "['DER_deltaeta_jet_jet', 'DER_mass_jet_jet', 'DER_prodeta_jet_jet', 'DER_lep_eta_centrality', 'PRI_jet_leading_pt', 'PRI_jet_leading_eta', 'PRI_jet_leading_phi', 'PRI_jet_subleading_pt', 'PRI_jet_subleading_eta', 'PRI_jet_subleading_phi']\n",
    "\n",
    "There are 7 features that are always -999 when the number of jet is 1: \n",
    "\n",
    "['DER_deltaeta_jet_jet', 'DER_mass_jet_jet', 'DER_prodeta_jet_jet', 'DER_lep_eta_centrality', 'PRI_jet_subleading_pt', 'PRI_jet_subleading_eta', 'PRI_jet_subleading_phi']\n",
    "\n",
    "There are no features that are always -99 when the number of jets is 2 or 3"
   ]
  },
  {
   "cell_type": "markdown",
   "metadata": {},
   "source": [
    "Pearson product-moment correlation coefficients to check the correlation between the variables and y"
   ]
  },
  {
   "cell_type": "code",
   "execution_count": 108,
   "metadata": {},
   "outputs": [
    {
     "name": "stdout",
     "output_type": "stream",
     "text": [
      "0.2391490578915459\n",
      "-0.35142795586167713\n",
      "-0.014055273784852627\n",
      "0.19252632856874902\n",
      "0.14164599256566465\n",
      "0.19176608807477116\n",
      "0.14055440046509635\n",
      "0.012245481285482975\n",
      "-0.015287426687781514\n",
      "0.1532359324758141\n",
      "-0.19539789618287715\n",
      "0.2717518770516496\n",
      "0.14134598859646377\n",
      "0.23523797587836742\n",
      "-0.0009432510582117524\n",
      "-0.0044025386863884184\n",
      "-0.03194758680534837\n",
      "0.0015162353770597236\n",
      "0.004125447411524855\n",
      "0.022465751510785933\n",
      "0.0074753421885902635\n",
      "0.13552026152268518\n",
      "0.13354912308169195\n",
      "0.15760414567634956\n",
      "0.15046926004977912\n",
      "0.1504680377929272\n",
      "0.14071436695043768\n",
      "0.14126491377601597\n",
      "0.14125568650533826\n",
      "0.13429572666925302\n"
     ]
    }
   ],
   "source": [
    "##Probably need to be normalized before \n",
    "##Fix me\n",
    "for i in range(30):\n",
    "    print(np.corrcoef(y_train,x_train[:,i])[0][1])"
   ]
  },
  {
   "cell_type": "markdown",
   "metadata": {},
   "source": [
    "Pearson product-moment correlation coefficients to check the correlation between the variables"
   ]
  },
  {
   "cell_type": "code",
   "execution_count": 119,
   "metadata": {},
   "outputs": [],
   "source": [
    "corrBetweenVariables = np.corrcoef([x_train[:,0],x_train[:,1],x_train[:,2],x_train[:,3],x_train[:,4],x_train[:,5],x_train[:,6],x_train[:,7],x_train[:,8],x_train[:,9],x_train[:,10],x_train[:,11],x_train[:,12],x_train[:,13],x_train[:,14],x_train[:,15],x_train[:,16],x_train[:,17],x_train[:,18],x_train[:,19],x_train[:,20],x_train[:,21],x_train[:,22],x_train[:,23],x_train[:,24],x_train[:,25],x_train[:,26],x_train[:,27],x_train[:,28],x_train[:,29]])"
   ]
  },
  {
   "cell_type": "code",
   "execution_count": 139,
   "metadata": {},
   "outputs": [
    {
     "name": "stdout",
     "output_type": "stream",
     "text": [
      "Correlation between  DER_deltaeta_jet_jet  and  DER_mass_jet_jet\n",
      "Correlation between  DER_deltaeta_jet_jet  and  DER_prodeta_jet_jet\n",
      "Correlation between  DER_deltaeta_jet_jet  and  DER_lep_eta_centrality\n",
      "Correlation between  DER_deltaeta_jet_jet  and  PRI_jet_subleading_pt\n",
      "Correlation between  DER_deltaeta_jet_jet  and  PRI_jet_subleading_eta\n",
      "Correlation between  DER_deltaeta_jet_jet  and  PRI_jet_subleading_phi\n",
      "Correlation between  DER_mass_jet_jet  and  DER_prodeta_jet_jet\n",
      "Correlation between  DER_mass_jet_jet  and  DER_lep_eta_centrality\n",
      "Correlation between  DER_mass_jet_jet  and  PRI_jet_subleading_pt\n",
      "Correlation between  DER_mass_jet_jet  and  PRI_jet_subleading_eta\n",
      "Correlation between  DER_mass_jet_jet  and  PRI_jet_subleading_phi\n",
      "Correlation between  DER_prodeta_jet_jet  and  DER_lep_eta_centrality\n",
      "Correlation between  DER_prodeta_jet_jet  and  PRI_jet_subleading_pt\n",
      "Correlation between  DER_prodeta_jet_jet  and  PRI_jet_subleading_eta\n",
      "Correlation between  DER_prodeta_jet_jet  and  PRI_jet_subleading_phi\n",
      "Correlation between  DER_sum_pt  and  PRI_met_sumet\n",
      "Correlation between  DER_sum_pt  and  PRI_jet_all_pt\n",
      "Correlation between  DER_lep_eta_centrality  and  PRI_jet_subleading_pt\n",
      "Correlation between  DER_lep_eta_centrality  and  PRI_jet_subleading_eta\n",
      "Correlation between  DER_lep_eta_centrality  and  PRI_jet_subleading_phi\n",
      "Correlation between  PRI_jet_leading_pt  and  PRI_jet_leading_eta\n",
      "Correlation between  PRI_jet_leading_pt  and  PRI_jet_leading_phi\n",
      "Correlation between  PRI_jet_leading_eta  and  PRI_jet_leading_phi\n",
      "Correlation between  PRI_jet_subleading_pt  and  PRI_jet_subleading_eta\n",
      "Correlation between  PRI_jet_subleading_pt  and  PRI_jet_subleading_phi\n",
      "Correlation between  PRI_jet_subleading_eta  and  PRI_jet_subleading_phi\n"
     ]
    }
   ],
   "source": [
    "##Probably need to be normalized before and jet values need to be remove?\n",
    "##Fix me\n",
    "for i in range(30):\n",
    "    for j in range(i+1,30):\n",
    "            if(abs(corrBetweenVariables[i][j]) > 0.90):\n",
    "                print('Correlation between ',features[i],' and ',features[j])\n",
    "        "
   ]
  },
  {
   "cell_type": "code",
   "execution_count": null,
   "metadata": {},
   "outputs": [],
   "source": []
  }
 ],
 "metadata": {
  "kernelspec": {
   "display_name": "Python 3",
   "language": "python",
   "name": "python3"
  },
  "language_info": {
   "codemirror_mode": {
    "name": "ipython",
    "version": 3
   },
   "file_extension": ".py",
   "mimetype": "text/x-python",
   "name": "python",
   "nbconvert_exporter": "python",
   "pygments_lexer": "ipython3",
   "version": "3.6.5"
  }
 },
 "nbformat": 4,
 "nbformat_minor": 2
}
