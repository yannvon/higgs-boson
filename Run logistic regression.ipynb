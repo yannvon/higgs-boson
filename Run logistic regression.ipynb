{
 "cells": [
  {
   "cell_type": "code",
   "execution_count": 1,
   "metadata": {},
   "outputs": [],
   "source": [
    "# Useful starting lines\n",
    "%matplotlib inline\n",
    "import numpy as np\n",
    "import matplotlib.pyplot as plt\n",
    "%load_ext autoreload\n",
    "%autoreload 2"
   ]
  },
  {
   "cell_type": "code",
   "execution_count": 16,
   "metadata": {},
   "outputs": [],
   "source": [
    "# Import helpers and model implementations\n",
    "from scripts.proj1_helpers import *\n",
    "from scripts.implementations import *"
   ]
  },
  {
   "cell_type": "code",
   "execution_count": 3,
   "metadata": {},
   "outputs": [],
   "source": [
    "# Import Data set\n",
    "y_train_l, x_train_l, ids_train = load_csv_data('./data/train.csv', sub_sample=False)\n",
    "_, x_test_l, ids_test = load_csv_data('./data/test.csv', sub_sample=False)"
   ]
  },
  {
   "cell_type": "markdown",
   "metadata": {},
   "source": [
    "# Entire Pipeline in one go: From Cleaning to Submission"
   ]
  },
  {
   "cell_type": "code",
   "execution_count": 4,
   "metadata": {},
   "outputs": [],
   "source": [
    "# Copy arrys from memory, this step can be skipped in run.py\n",
    "# Important, all following cells have to be executed in order from here on.\n",
    "x_train, y_train = np.copy(x_train_l), np.copy(y_train_l)\n",
    "x_test = np.copy(x_test_l)\n",
    "\n",
    "# Set seed\n",
    "seed = 1"
   ]
  },
  {
   "cell_type": "code",
   "execution_count": 5,
   "metadata": {},
   "outputs": [],
   "source": [
    "# STEP 1: Define two methods, one tranforms x, the other y\n",
    "\n",
    "def transform_x_logistic(x):\n",
    "    # Step 1: Replace the -999 values in the first column by the mean\n",
    "    x[:, 0][x[:, 0] == -999.0] = np.mean(x[:, 0][x[:, 0] != -999.0])\n",
    "    \n",
    "    # Step 2: Split data set into 3 datasets depending on jet num\n",
    "    x_0, x_1, x_23 = split_x(x)\n",
    "    \n",
    "    # Step 3: Remove aberrant just to be sure ? FIXME\n",
    "    \n",
    "    # Step 4: Standardize data\n",
    "    x_0, x_0_mean, x_0_std = standardize(x_0)\n",
    "    x_1, x_1_mean, x_1_std = standardize(x_1)\n",
    "    x_23, x_23_mean, x_23_std = standardize(x_23)\n",
    "    \n",
    "    # Step 5: Feature expansion\n",
    "    # 5.1 add column with constant terms\n",
    "    tx_0 = np.c_[np.ones((x_0.shape[0], 1)), x_0]\n",
    "    tx_1 = np.c_[np.ones((x_1.shape[0], 1)), x_1]\n",
    "    tx_23 = np.c_[np.ones((x_23.shape[0], 1)), x_23]\n",
    "\n",
    "    # 5.2 polynomial basis\n",
    "\n",
    "    # 5.3 nonlinear expansion\n",
    "    \n",
    "    # Final step: return all transformed data\n",
    "    return tx_0, tx_1, tx_23\n",
    "\n",
    "def transform_y_logistic(y, x):\n",
    "    # Step 1: add dimension to y \n",
    "    y = np.expand_dims(y_train, axis=1)\n",
    "    \n",
    "    # For logistic regression: bring y back to 0 and 1 -> for logistic regression #FIXME bring back\n",
    "    y = np.array([0 if i == -1 else 1 for i in y])\n",
    "    \n",
    "    # Step 2: Split data set into 3 datasets depending on jet num\n",
    "    y_0, y_1, y_23 = split_y(y, x)\n",
    "\n",
    "    return y_0, y_1, y_23\n",
    "    "
   ]
  },
  {
   "cell_type": "code",
   "execution_count": 47,
   "metadata": {},
   "outputs": [],
   "source": [
    "# STEP 2: Perform cross validation"
   ]
  },
  {
   "cell_type": "code",
   "execution_count": 19,
   "metadata": {},
   "outputs": [
    {
     "name": "stdout",
     "output_type": "stream",
     "text": [
      "Current iteration=0, loss=68712.23192577629\n",
      "weights size:0.0004649018270131234\n",
      "Current iteration=10000, loss=42436.89335814543\n",
      "weights size:3.2775941773543797\n",
      "Current iteration=20000, loss=43600.545865174274\n",
      "weights size:3.125411051280684\n",
      "Current iteration=30000, loss=42891.93868858164\n",
      "weights size:3.01827307936436\n",
      "Current iteration=40000, loss=42217.62105360966\n",
      "weights size:3.304723935297876\n",
      "loss=42389.056382095085\n",
      "Current iteration=0, loss=53591.060334834445\n",
      "weights size:0.0009666461541747606\n",
      "Current iteration=10000, loss=43189.19345276145\n",
      "weights size:1.531386980042974\n",
      "Current iteration=20000, loss=43426.67455649385\n",
      "weights size:1.5576740275050802\n",
      "Current iteration=30000, loss=43303.781382348745\n",
      "weights size:1.6572118008442722\n",
      "Current iteration=40000, loss=43192.28533185497\n",
      "weights size:1.5365246041502734\n",
      "loss=43118.66437245187\n",
      "Current iteration=0, loss=50192.99171468878\n",
      "weights size:0.00043053562790325566\n",
      "Current iteration=10000, loss=39112.04437969311\n",
      "weights size:1.4869657658294553\n",
      "Current iteration=20000, loss=39407.051379862896\n",
      "weights size:1.60723445735579\n",
      "Current iteration=30000, loss=39834.08438237967\n",
      "weights size:1.3866703237246103\n",
      "Current iteration=40000, loss=39391.3888142934\n",
      "weights size:1.6423029140395218\n",
      "loss=39204.445725516074\n"
     ]
    }
   ],
   "source": [
    "# STEP 3: Learn on entire dataset\n",
    "y_t0, y_t1, y_t23 = transform_y_logistic(y_train, x_train)\n",
    "tx_t0, tx_t1, tx_t23 = transform_x_logistic(x_train)\n",
    "\n",
    "initial_w_0 = np.zeros((tx_t0.shape[1], 1))\n",
    "initial_w_1 = np.zeros((tx_t1.shape[1], 1))\n",
    "initial_w_23 = np.zeros((tx_t23.shape[1], 1))\n",
    "\n",
    "lambda_ = 0.02\n",
    "gamma = 0.01\n",
    "max_iters = 50000\n",
    "\n",
    "# Logistic regression\n",
    "#w_0, loss_w0 = logistic_regression(y_t0, tx_t0, initial_w_0, max_iters, gamma)\n",
    "#w_1, loss_w1 = logistic_regression(y_t1, tx_t1, initial_w_1, max_iters, gamma)\n",
    "#w_2, loss_w2 = logistic_regression(y_t23, tx_t23, initial_w_23, max_iters, gamma)\n",
    "\n",
    "# Regularized logistic regression\n",
    "w_0, loss_w0 = reg_logistic_regression_SGD(y_t0, tx_t0, lambda_, initial_w_0, max_iters, gamma)\n",
    "w_1, loss_w1 = reg_logistic_regression_SGD(y_t1, tx_t1, lambda_, initial_w_1, max_iters, gamma)\n",
    "w_2, loss_w2 = reg_logistic_regression_SGD(y_t23, tx_t23, lambda_, initial_w_23, max_iters, gamma)\n"
   ]
  },
  {
   "cell_type": "code",
   "execution_count": 20,
   "metadata": {},
   "outputs": [
    {
     "data": {
      "text/plain": [
       "0.73854"
      ]
     },
     "execution_count": 20,
     "metadata": {},
     "output_type": "execute_result"
    }
   ],
   "source": [
    "y_prediction_train = predict_labels_datasets_logistic(w_0, w_1, w_2, x_train, transform_x_logistic)\n",
    "compute_accuracy(y_train, y_prediction_train)"
   ]
  },
  {
   "cell_type": "code",
   "execution_count": 54,
   "metadata": {},
   "outputs": [],
   "source": [
    "# Predict y_test to submit on kaggle\n",
    "y_prediction_test = predict_labels_datasets_logistic(w_0, w_1, w_2, x_test, transform_x_logistic)\n",
    "create_csv_submission(ids_test, y_prediction_test, \"submission.csv\")"
   ]
  }
 ],
 "metadata": {
  "kernelspec": {
   "display_name": "Python 3",
   "language": "python",
   "name": "python3"
  },
  "language_info": {
   "codemirror_mode": {
    "name": "ipython",
    "version": 3
   },
   "file_extension": ".py",
   "mimetype": "text/x-python",
   "name": "python",
   "nbconvert_exporter": "python",
   "pygments_lexer": "ipython3",
   "version": "3.6.6"
  }
 },
 "nbformat": 4,
 "nbformat_minor": 2
}
