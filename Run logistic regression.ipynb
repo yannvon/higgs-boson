{
 "cells": [
  {
   "cell_type": "code",
   "execution_count": 1,
   "metadata": {},
   "outputs": [],
   "source": [
    "# Useful starting lines\n",
    "%matplotlib inline\n",
    "import numpy as np\n",
    "import matplotlib.pyplot as plt\n",
    "%load_ext autoreload\n",
    "%autoreload 2"
   ]
  },
  {
   "cell_type": "code",
   "execution_count": 2,
   "metadata": {},
   "outputs": [],
   "source": [
    "# Import helpers and model implementations\n",
    "from scripts.proj1_helpers import *\n",
    "from scripts.implementations import *"
   ]
  },
  {
   "cell_type": "code",
   "execution_count": 3,
   "metadata": {},
   "outputs": [],
   "source": [
    "# Import Data set\n",
    "y_train_l, x_train_l, ids_train = load_csv_data('./data/train.csv', sub_sample=False)\n",
    "_, x_test_l, ids_test = load_csv_data('./data/test.csv', sub_sample=False)"
   ]
  },
  {
   "cell_type": "markdown",
   "metadata": {},
   "source": [
    "# Entire Pipeline in one go: From Cleaning to Submission"
   ]
  },
  {
   "cell_type": "code",
   "execution_count": 4,
   "metadata": {},
   "outputs": [],
   "source": [
    "# Copy arrys from memory, this step can be skipped in run.py\n",
    "# Important, all following cells have to be executed in order from here on.\n",
    "x_train, y_train = np.copy(x_train_l), np.copy(y_train_l)\n",
    "x_test = np.copy(x_test_l)\n",
    "\n",
    "# Set seed\n",
    "seed = 1"
   ]
  },
  {
   "cell_type": "code",
   "execution_count": 5,
   "metadata": {},
   "outputs": [],
   "source": [
    "# STEP 1: Define two methods, one tranforms x, the other y\n",
    "\n",
    "def transform_x_logistic(x):\n",
    "    # Step 1: Replace the -999 values in the first column by the mean\n",
    "    x[:, 0][x[:, 0] == -999.0] = np.mean(x[:, 0][x[:, 0] != -999.0])\n",
    "    \n",
    "    # Step 2: Split data set into 3 datasets depending on jet num\n",
    "    x_0, x_1, x_23 = split_x(x)\n",
    "    \n",
    "    # Step 3: Remove aberrant just to be sure\n",
    "    remove_aberrant(x_0)\n",
    "    remove_aberrant(x_1)\n",
    "    remove_aberrant(x_23)\n",
    "    \n",
    "    # 5.2 polynomial basis\n",
    "    degree = 8\n",
    "    x_0 = build_poly(x_0, degree)\n",
    "    x_1 = build_poly(x_1, degree)\n",
    "    x_23 = build_poly(x_23, degree)\n",
    "    \n",
    "\n",
    "    # Step 4: Standardize data\n",
    "    x_0, x_0_mean, x_0_std = standardize(x_0)\n",
    "    x_1, x_1_mean, x_1_std = standardize(x_1)\n",
    "    x_23, x_23_mean, x_23_std = standardize(x_23)\n",
    "    \n",
    "    # Step 5: Feature expansion\n",
    "    # 5.1 add column with constant terms\n",
    "    tx_0 = np.c_[np.ones((x_0.shape[0], 1)), x_0]\n",
    "    tx_1 = np.c_[np.ones((x_1.shape[0], 1)), x_1]\n",
    "    tx_23 = np.c_[np.ones((x_23.shape[0], 1)), x_23]\n",
    "\n",
    "    \n",
    "    # 5.3 nonlinear expansion\n",
    "    \n",
    "    # Final step: return all transformed data\n",
    "    return tx_0, tx_1, tx_23\n",
    "\n",
    "def transform_y_logistic(y, x):\n",
    "    # Step 1: add dimension to y \n",
    "    y = np.expand_dims(y, axis=1)\n",
    "    \n",
    "    # For logistic regression: bring y back to 0 and 1 -> for logistic regression #FIXME bring back\n",
    "    y = np.array([0 if i == -1 else 1 for i in y])\n",
    "    \n",
    "    # Step 2: Split data set into 3 datasets depending on jet num\n",
    "    y_0, y_1, y_23 = split_y(y, x)\n",
    "\n",
    "    return y_0, y_1, y_23\n",
    "    "
   ]
  },
  {
   "cell_type": "code",
   "execution_count": 6,
   "metadata": {},
   "outputs": [],
   "source": [
    "# STEP 2: Perform cross validation"
   ]
  },
  {
   "cell_type": "code",
   "execution_count": 9,
   "metadata": {},
   "outputs": [
    {
     "name": "stdout",
     "output_type": "stream",
     "text": [
      "Current iteration=0, loss=69192.96017608918\n",
      "weights size:0.0001052745053757\n"
     ]
    },
    {
     "name": "stderr",
     "output_type": "stream",
     "text": [
      "/home/yann/Documents/higgs-boson/scripts/implementations.py:189: RuntimeWarning: divide by zero encountered in log\n",
      "  return - np.squeeze((y.T @ np.log(sigmoid(tx @ w)) + (1 - y).T @ np.log(1 - sigmoid(tx @ w))))\n"
     ]
    },
    {
     "name": "stdout",
     "output_type": "stream",
     "text": [
      "Current iteration=10000, loss=nan\n",
      "weights size:4.329599370255327\n",
      "Current iteration=20000, loss=nan\n",
      "weights size:5.092868872450366\n",
      "Current iteration=30000, loss=nan\n",
      "weights size:5.118820057681811\n",
      "Current iteration=40000, loss=nan\n",
      "weights size:5.119121136132341\n",
      "Current iteration=50000, loss=nan\n",
      "weights size:5.276511474182574\n",
      "Current iteration=60000, loss=39844.33000044996\n",
      "weights size:5.230755403782653\n",
      "Current iteration=70000, loss=nan\n",
      "weights size:5.61076581606541\n"
     ]
    },
    {
     "name": "stderr",
     "output_type": "stream",
     "text": [
      "/home/yann/Documents/higgs-boson/scripts/implementations.py:181: RuntimeWarning: overflow encountered in exp\n",
      "  return 1.0 / (1 + np.exp(-t))\n"
     ]
    },
    {
     "name": "stdout",
     "output_type": "stream",
     "text": [
      "Current iteration=80000, loss=nan\n",
      "weights size:52.34333260327412\n",
      "Current iteration=90000, loss=nan\n",
      "weights size:21.27181846609832\n",
      "loss=nan\n",
      "Current iteration=0, loss=53002.46760433886\n",
      "weights size:0.0017572519497114356\n",
      "Current iteration=10000, loss=nan\n",
      "weights size:4.8807405851300665\n",
      "Current iteration=20000, loss=nan\n",
      "weights size:4.218276794376191\n",
      "Current iteration=30000, loss=nan\n",
      "weights size:10.541153761265397\n",
      "Current iteration=40000, loss=nan\n",
      "weights size:7.169846170402905\n",
      "Current iteration=50000, loss=nan\n",
      "weights size:6.762182068486548\n",
      "Current iteration=60000, loss=nan\n",
      "weights size:5.221180890419102\n",
      "Current iteration=70000, loss=nan\n",
      "weights size:7.607152216550544\n",
      "Current iteration=80000, loss=nan\n",
      "weights size:5.109977206778802\n",
      "Current iteration=90000, loss=nan\n",
      "weights size:5.934067352569003\n",
      "loss=nan\n",
      "Current iteration=0, loss=49549.739484312835\n",
      "weights size:0.0006207334895275524\n",
      "Current iteration=10000, loss=inf\n",
      "weights size:2.898133262474943\n",
      "Current iteration=20000, loss=nan\n",
      "weights size:3.7518306669161015\n",
      "Current iteration=30000, loss=nan\n",
      "weights size:6.3581216470974775\n",
      "Current iteration=40000, loss=nan\n",
      "weights size:17.933015497055795\n",
      "Current iteration=50000, loss=nan\n",
      "weights size:7.846618234174651\n",
      "Current iteration=60000, loss=36959.61964642807\n",
      "weights size:5.17296171843704\n",
      "Current iteration=70000, loss=nan\n",
      "weights size:4.765618648295665\n",
      "Current iteration=80000, loss=nan\n",
      "weights size:5.503325974052863\n",
      "Current iteration=90000, loss=37022.42267383876\n",
      "weights size:5.375760606215964\n",
      "loss=nan\n"
     ]
    }
   ],
   "source": [
    "# STEP 3: Learn on entire dataset\n",
    "y_t0, y_t1, y_t23 = transform_y_logistic(y_train, x_train)\n",
    "tx_t0, tx_t1, tx_t23 = transform_x_logistic(x_train)\n",
    "\n",
    "initial_w_0 = np.zeros((tx_t0.shape[1], 1))\n",
    "initial_w_1 = np.zeros((tx_t1.shape[1], 1))\n",
    "initial_w_23 = np.zeros((tx_t23.shape[1], 1))\n",
    "\n",
    "lambda_ = 0.01\n",
    "gamma = 0.005\n",
    "max_iters = 100000\n",
    "\n",
    "# Logistic regression\n",
    "#w_0, loss_w0 = logistic_regression(y_t0, tx_t0, initial_w_0, max_iters, gamma)\n",
    "#w_1, loss_w1 = logistic_regression(y_t1, tx_t1, initial_w_1, max_iters, gamma)\n",
    "#w_2, loss_w2 = logistic_regression(y_t23, tx_t23, initial_w_23, max_iters, gamma)\n",
    "\n",
    "# Regularized logistic regression, stochastic\n",
    "w_0, loss_w0 = reg_logistic_regression_SGD(y_t0, tx_t0, lambda_, initial_w_0, max_iters, gamma)\n",
    "w_1, loss_w1 = reg_logistic_regression_SGD(y_t1, tx_t1, lambda_, initial_w_1, max_iters, gamma)\n",
    "w_2, loss_w2 = reg_logistic_regression_SGD(y_t23, tx_t23, lambda_, initial_w_23, max_iters, gamma)\n",
    "\n",
    "# Newton logistic regression\n",
    "#w_0, loss_w0 = logistic_regression_newton(y_t0, tx_t0, lambda_, initial_w_0, max_iters, gamma)\n",
    "#w_1, loss_w1 = logistic_regression_newton(y_t1, tx_t1, lambda_, initial_w_1, max_iters, gamma)\n",
    "#w_2, loss_w2 = logistic_regression_newton(y_t23, tx_t23, lambda_, initial_w_23, max_iters, gamma)\n",
    "\n"
   ]
  },
  {
   "cell_type": "code",
   "execution_count": 10,
   "metadata": {
    "scrolled": false
   },
   "outputs": [
    {
     "data": {
      "text/plain": [
       "0.766736"
      ]
     },
     "execution_count": 10,
     "metadata": {},
     "output_type": "execute_result"
    }
   ],
   "source": [
    "y_prediction_train = predict_labels_datasets_logistic(w_0, w_1, w_2, x_train, transform_x_logistic)\n",
    "compute_accuracy(y_train, y_prediction_train)"
   ]
  },
  {
   "cell_type": "code",
   "execution_count": 79,
   "metadata": {},
   "outputs": [],
   "source": [
    "# Predict y_test to submit on kaggle\n",
    "y_prediction_test = predict_labels_datasets_logistic(w_0, w_1, w_2, x_test, transform_x_logistic)\n",
    "create_csv_submission(ids_test, y_prediction_test, \"submission.csv\")"
   ]
  },
  {
   "cell_type": "markdown",
   "metadata": {},
   "source": [
    "# Results:\n",
    "## Reg_logistic_SGD\n",
    "gamma = 0.0005 max_iters = 10000000 lambda = 0 degree = 1 accuracy = 0.745748\n",
    "gamma = 0.0005 max_iters = 10000000 lambda = 0 degree = 2 accuracy = 0.80364 -> Kaggle 0.77300\n",
    "gamma = 0.0005 max_iters = 10000000 lambda = 0 degree = 3 accuracy = 0.791964 -> Kaggle 0.78508\n",
    "gamma = 0.0005 max_iters = 10000000 lambda = 0 degree = 4 accuracy = 0.791584\n",
    "\n",
    "gamma = 0.0005 max_iters = 10000000 lambda = 0 degree = 8 accuracy = 0.766736\n",
    "\n"
   ]
  },
  {
   "cell_type": "code",
   "execution_count": null,
   "metadata": {},
   "outputs": [],
   "source": [
    "0.80364 "
   ]
  }
 ],
 "metadata": {
  "kernelspec": {
   "display_name": "Python 3",
   "language": "python",
   "name": "python3"
  },
  "language_info": {
   "codemirror_mode": {
    "name": "ipython",
    "version": 3
   },
   "file_extension": ".py",
   "mimetype": "text/x-python",
   "name": "python",
   "nbconvert_exporter": "python",
   "pygments_lexer": "ipython3",
   "version": "3.6.6"
  }
 },
 "nbformat": 4,
 "nbformat_minor": 2
}
